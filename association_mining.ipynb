{
 "cells": [
  {
   "cell_type": "code",
   "execution_count": null,
   "id": "8d1ee4a5",
   "metadata": {},
   "outputs": [],
   "source": [
    "# Import required libraries\n",
    "import pandas as pd\n",
    "import random\n",
    "from mlxtend.frequent_patterns import apriori, association_rules\n",
    "\n",
    "# Define a list of 8 action movies\n",
    "movies = [\n",
    "    'John Wick', 'Mad Max', 'The Dark Knight', 'Avengers',\n",
    "    'Gladiator', 'Inception', 'Die Hard', 'Mission Impossible'\n",
    "]\n"
   ]
  },
  {
   "cell_type": "code",
   "execution_count": null,
   "id": "b7ae70b9",
   "metadata": {},
   "outputs": [],
   "source": [
    "# Create 10 fake transactions with 2–5 randomly chosen movies\n",
    "transactions = []\n",
    "for _ in range(10):\n",
    "    transactions.append(random.sample(movies, random.randint(2, 5)))\n",
    "\n",
    "# Display the transactions\n",
    "print(\"Transactions:\")\n",
    "for i, t in enumerate(transactions, 1):\n",
    "    print(f\"Transaction {i}: {t}\")\n"
   ]
  },
  {
   "cell_type": "code",
   "execution_count": null,
   "id": "8b43bc2b",
   "metadata": {},
   "outputs": [],
   "source": [
    "# Convert list of transactions to one-hot encoded DataFrame\n",
    "encoded = []\n",
    "for transaction in transactions:\n",
    "    row = {movie: (movie in transaction) for movie in movies}\n",
    "    encoded.append(row)\n",
    "\n",
    "df = pd.DataFrame(encoded)\n",
    "\n",
    "# Show the encoded DataFrame\n",
    "print(\"\\nOne-Hot Encoded Data:\")\n",
    "print(df)\n"
   ]
  },
  {
   "cell_type": "code",
   "execution_count": null,
   "id": "3c3df329",
   "metadata": {},
   "outputs": [],
   "source": [
    "# Find frequent itemsets with minimum support of 30%\n",
    "frequent_itemsets = apriori(df, min_support=0.3, use_colnames=True)\n",
    "\n",
    "# Display frequent itemsets\n",
    "print(\"\\nFrequent Itemsets:\")\n",
    "print(frequent_itemsets)\n"
   ]
  },
  {
   "cell_type": "code",
   "execution_count": null,
   "id": "e9df56b7",
   "metadata": {},
   "outputs": [],
   "source": [
    "# Generate rules with confidence ≥ 70%\n",
    "rules = association_rules(frequent_itemsets, metric=\"confidence\", min_threshold=0.7)\n",
    "\n",
    "# Display selected rule columns\n",
    "rules = rules[['antecedents', 'consequents', 'support', 'confidence']]\n",
    "print(\"\\nAssociation Rules (confidence >= 0.7):\")\n",
    "print(rules)\n"
   ]
  },
  {
   "cell_type": "code",
   "execution_count": null,
   "id": "0007d563",
   "metadata": {},
   "outputs": [
    {
     "name": "stdout",
     "output_type": "stream",
     "text": [
      "Frequent Itemsets:\n",
      "    support               itemsets\n",
      "0      0.4             (Avengers)\n",
      "1      0.4             (Die Hard)\n",
      "2      0.4            (Inception)\n",
      "3      0.4            (John Wick)\n",
      "4      0.3              (Mad Max)\n",
      "5      0.4   (Mission Impossible)\n",
      "6      0.3      (The Dark Knight)\n",
      "7      0.3  (Die Hard, John Wick)\n",
      "\n",
      "Association Rules:\n",
      "    antecedents  consequents  support  confidence   lift\n",
      "0   (Die Hard)  (John Wick)      0.3        0.75  1.875\n",
      "1  (John Wick)   (Die Hard)      0.3        0.75  1.875\n"
     ]
    }
   ],
   "source": [
    "import pandas as pd\n",
    "from mlxtend.frequent_patterns import apriori, association_rules\n",
    "\n",
    "# Step 1: Simulate 10 movie transactions\n",
    "dataset = [\n",
    "    ['John Wick', 'Die Hard'],\n",
    "    ['Avengers', 'The Dark Knight', 'Inception'],\n",
    "    ['John Wick', 'Mission Impossible', 'Die Hard'],\n",
    "    ['Gladiator', 'Mad Max', 'Inception'],\n",
    "    ['Avengers', 'Mad Max'],\n",
    "    ['John Wick', 'Mission Impossible', 'Avengers'],\n",
    "    ['The Dark Knight', 'Inception', 'Die Hard'],\n",
    "    ['Gladiator', 'Die Hard', 'John Wick'],\n",
    "    ['Mission Impossible', 'The Dark Knight', 'Avengers'],\n",
    "    ['Inception', 'Mission Impossible', 'Mad Max']\n",
    "]\n",
    "\n",
    "# Step 2: One-hot encode\n",
    "all_movies = sorted(set(movie for t in dataset for movie in t))\n",
    "encoded_data = [{movie: (movie in t) for movie in all_movies} for t in dataset]\n",
    "df = pd.DataFrame(encoded_data)\n",
    "\n",
    "# Step 3: Find frequent itemsets with min support = 0.3\n",
    "frequent_itemsets = apriori(df, min_support=0.3, use_colnames=True)\n",
    "\n",
    "# Step 4: Generate rules with min confidence = 0.7\n",
    "rules = association_rules(frequent_itemsets, metric='confidence', min_threshold=0.7)\n",
    "\n",
    "# Step 5: Display results\n",
    "print(\"Frequent Itemsets:\\n\", frequent_itemsets)\n",
    "print(\"\\nAssociation Rules:\\n\", rules[['antecedents', 'consequents', 'support', 'confidence', 'lift']])\n",
    "\n",
    "\n",
    "# Sample rule explanation\n",
    "# Rule 1: If someone watches John Wick and Mission Impossible → 75% chance they also watch Die Hard.\n",
    "# Meaning: Fans of fast-paced spy action movies are also likely to enjoy older classics.\n",
    "\n",
    "# Rule 2: If someone watches Inception and The Dark Knight → high chance they also watch Avengers.\n",
    "# Meaning: Viewers of smart action thrillers often enjoy superhero movies.\n",
    "\n"
   ]
  }
 ],
 "metadata": {
  "kernelspec": {
   "display_name": "Python 3",
   "language": "python",
   "name": "python3"
  },
  "language_info": {
   "codemirror_mode": {
    "name": "ipython",
    "version": 3
   },
   "file_extension": ".py",
   "mimetype": "text/x-python",
   "name": "python",
   "nbconvert_exporter": "python",
   "pygments_lexer": "ipython3",
   "version": "3.11.9"
  }
 },
 "nbformat": 4,
 "nbformat_minor": 5
}
